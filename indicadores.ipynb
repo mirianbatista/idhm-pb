{
 "cells": [
  {
   "cell_type": "code",
   "execution_count": 1,
   "metadata": {},
   "outputs": [],
   "source": [
    "import pandas as pd\n",
    "import seaborn as sns\n",
    "import matplotlib.pyplot as plt"
   ]
  },
  {
   "cell_type": "markdown",
   "metadata": {},
   "source": [
    "MORT1:\tNúmero de crianças que não deverão sobreviver ao primeiro ano de vida em cada 1000 crianças nascidas vivas.\n",
    "\n",
    "T_ANALF11A14:\tRazão entre a população de 11 a 14 anos de idade que não sabe ler nem escrever um bilhete simples e o total de pessoas nesta faixa etária multiplicado por 100.\n",
    "\n",
    "GINI:\tMede o grau de desigualdade existente na distribuição de indivíduos segundo a renda domiciliar per capita. Seu valor varia de 0, quando não há desigualdade (a renda domiciliar per capita de todos os indivíduos tem o mesmo valor), a 1, quando a desigualdade é máxima (apenas um indivíduo detém toda a renda).O universo de indivíduos é limitado àqueles que vivem em domicílios particulares permanentes.\n",
    "\n",
    "PIND:\tProporção dos indivíduos com renda domiciliar per capita igual ou inferior a R$ 70,00 mensais, em reais de agosto de 2010. O universo de indivíduos é limitado àqueles que vivem em domicílios particulares permanentes.\n",
    "\n",
    "T_DES2529:\tPercentual da população economicamente ativa (PEA) nessa faixa etária que estava desocupada, ou seja, que não estava ocupada na semana anterior à data do Censo mas havia procurado trabalho ao longo do mês anterior à data dessa pesquisa.\n",
    "\n",
    "TRABSC:\tRazão entre o número de empregados de 18 anos ou mais de idade sem carteira de trabalho assinada e o número total de pessoas ocupadas nessa faixa etária multiplicado por 100.\n",
    "\n",
    "AGUA_ESGOTO: Razão entre as pessoas que vivem em domicílios cujo abastecimento de água não provem de rede geral e cujo esgotamento sanitário não é realizado por rede coletora de esgoto ou fossa séptica e a população total residente em domicílios particulares permanentes multiplicado por 100. São considerados apenas os domicílios particulares permanentes.\n",
    "\n",
    "T_CRIFUNDIN_TODOS:\tRazão entre o número de crianças de até 14 anos que vivem em domicílios em que nenhum dos moradores tem o ensino fundamental completo e a população total nesta faixa etária residente em domicílios particulares permanentes multiplicado por 100. São considerados apenas os domicílios particulares permanentes.\n",
    "\n",
    "T_FORA6A14:\tRazão entre as crianças de 6 a 14 anos que não frequenta a escola e o total de crianças nesta faixa etária multiplicado por 100.\n",
    "\n",
    "T_M10A14CF:\tRazão entre as mulheres de 10 a 14 anos de idade que tiveram filhos e o total de mulheres nesta faixa etária multiplicado por 100.\n",
    "\n",
    "T_MULCHEFEFIF014:\tRazão entre o número de mulheres que são responsáveis pelo domicílio, não têm o ensino fundamental completo e têm pelo menos 1 filho de idade inferior a 15 anos morando no domicílio e o número total de mulheres chefes de família multiplicado por 100. São considerados apenas os domicílios particulares permanentes.\n",
    "\n",
    "T_RMAXIDOSO:\tRazão entre as pessoas que vivem em domicílios vulneráveis à pobreza (com renda per capita inferior a 1/2 salário mínimo de agosto de 2010) e nos quais a principal fonte de renda provém de moradores com 65 anos ou mais de idade e população total residente em domicílios particulares permanentes multiplicado por 100.\n",
    "\n",
    "T_SLUZ: Razão entre as pessoas que vivem em domicílios sem energia elétrica e população total residente em domicílios particulares permanentes multiplicado por 100. "
   ]
  },
  {
   "cell_type": "code",
   "execution_count": 2,
   "metadata": {},
   "outputs": [
    {
     "name": "stdout",
     "output_type": "stream",
     "text": [
      "<class 'pandas.core.frame.DataFrame'>\n",
      "Int64Index: 669 entries, 1241 to 12593\n",
      "Data columns (total 16 columns):\n",
      "ANO                  669 non-null int64\n",
      "UF                   669 non-null object\n",
      "Município            669 non-null object\n",
      "MORT1                669 non-null float64\n",
      "T_ANALF11A14         669 non-null float64\n",
      "GINI                 669 non-null float64\n",
      "PIND                 669 non-null float64\n",
      "T_DES2529            446 non-null float64\n",
      "TRABSC               446 non-null float64\n",
      "AGUA_ESGOTO          669 non-null float64\n",
      "T_CRIFUNDIN_TODOS    446 non-null float64\n",
      "T_FORA6A14           669 non-null float64\n",
      "T_M10A14CF           669 non-null float64\n",
      "T_MULCHEFEFIF014     669 non-null float64\n",
      "T_RMAXIDOSO          669 non-null float64\n",
      "T_SLUZ               669 non-null float64\n",
      "dtypes: float64(13), int64(1), object(2)\n",
      "memory usage: 88.9+ KB\n"
     ]
    }
   ],
   "source": [
    "atlas = pd.read_excel(\"atlas2013_dadosbrutos_pt.xlsx\", sheet_name=1, \n",
    "          usecols=['ANO', 'UF', 'Município', 'MORT1', 'T_ANALF11A14', 'GINI', 'PIND', 'T_DES2529', 'TRABSC', 'AGUA_ESGOTO', 'T_CRIFUNDIN_TODOS', 'T_FORA6A14', 'T_M10A14CF', 'T_MULCHEFEFIF014', 'T_RMAXIDOSO', 'T_SLUZ'], \n",
    "          dtype={'UF': str})\n",
    "atlaspb = atlas.groupby(atlas['UF']).get_group('25')\n",
    "atlaspb.info()"
   ]
  }
 ],
 "metadata": {
  "kernelspec": {
   "display_name": "Python 3",
   "language": "python",
   "name": "python3"
  },
  "language_info": {
   "codemirror_mode": {
    "name": "ipython",
    "version": 3
   },
   "file_extension": ".py",
   "mimetype": "text/x-python",
   "name": "python",
   "nbconvert_exporter": "python",
   "pygments_lexer": "ipython3",
   "version": "3.7.3"
  }
 },
 "nbformat": 4,
 "nbformat_minor": 2
}
